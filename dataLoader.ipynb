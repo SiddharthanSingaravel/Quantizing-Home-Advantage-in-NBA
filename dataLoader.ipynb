{
 "cells": [
  {
   "cell_type": "markdown",
   "metadata": {},
   "source": [
    "## Import libraries"
   ]
  },
  {
   "cell_type": "code",
   "execution_count": 1,
   "metadata": {},
   "outputs": [],
   "source": [
    "# Import libraries\n",
    "from nba_api.stats.endpoints import playercareerstats # type: ignore\n",
    "from nba_api.stats.endpoints import leaguegamefinder # type: ignore\n",
    "from nba_api.live.nba.endpoints import scoreboard # type: ignore\n",
    "from nba_api.stats.static import teams # type: ignore\n",
    "import pandas as pd # type: ignore\n",
    "from matplotlib import pyplot as plt # type: ignore\n",
    "import seaborn as sns # type: ignore"
   ]
  },
  {
   "cell_type": "markdown",
   "metadata": {},
   "source": [
    "## Get all match data from NBA"
   ]
  },
  {
   "cell_type": "code",
   "execution_count": 2,
   "metadata": {},
   "outputs": [
    {
     "name": "stderr",
     "output_type": "stream",
     "text": [
      "C:\\Users\\siddh\\AppData\\Local\\Temp\\ipykernel_2460\\2532229850.py:17: FutureWarning: The behavior of DataFrame concatenation with empty or all-NA entries is deprecated. In a future version, this will no longer exclude empty or all-NA columns when determining the result dtypes. To retain the old behavior, exclude the relevant entries before the concat operation.\n",
      "  df = pd.concat([df, games])\n"
     ]
    }
   ],
   "source": [
    "# Get teams from teams\n",
    "nba_teams = teams.get_teams()\n",
    "df_cols = ['SEASON_ID', 'TEAM_ID', 'TEAM_ABBREVIATION', 'TEAM_NAME', 'GAME_ID',\n",
    "       'GAME_DATE', 'MATCHUP', 'WL', 'MIN', 'PTS', 'FGM', 'FGA', 'FG_PCT',\n",
    "       'FG3M', 'FG3A', 'FG3_PCT', 'FTM', 'FTA', 'FT_PCT', 'OREB', 'DREB',\n",
    "       'REB', 'AST', 'STL', 'BLK', 'TOV', 'PF', 'PLUS_MINUS']\n",
    "\n",
    "# pandas dataframes\n",
    "df = pd.DataFrame(columns = df_cols)\n",
    "# Get team ids and names\n",
    "team_id = [d['id'] for d in nba_teams if 'id' in d]\n",
    "# team_name = [d['abbreviation'] for d in nba_teams if 'abbreviation' in d]\n",
    "\n",
    "for id in team_id:\n",
    "    gamefinder = leaguegamefinder.LeagueGameFinder(team_id_nullable = id)\n",
    "    games = gamefinder.get_data_frames()[0]\n",
    "    df = pd.concat([df, games])"
   ]
  },
  {
   "cell_type": "code",
   "execution_count": 6,
   "metadata": {},
   "outputs": [],
   "source": [
    "df.to_csv('matchData.csv', index = False)"
   ]
  },
  {
   "cell_type": "code",
   "execution_count": 23,
   "metadata": {},
   "outputs": [
    {
     "data": {
      "text/plain": [
       "PLUS_MINUS           29704\n",
       "FG3_PCT               1043\n",
       "FT_PCT                  11\n",
       "WL                       9\n",
       "FG_PCT                   7\n",
       "DREB                     4\n",
       "OREB                     4\n",
       "STL                      2\n",
       "FG3A                     2\n",
       "REB                      1\n",
       "PTS                      0\n",
       "GAME_ID                  0\n",
       "PF                       0\n",
       "TOV                      0\n",
       "BLK                      0\n",
       "TEAM_ABBREVIATION        0\n",
       "AST                      0\n",
       "TEAM_NAME                0\n",
       "GAME_DATE                0\n",
       "FGM                      0\n",
       "FTA                      0\n",
       "FTM                      0\n",
       "MATCHUP                  0\n",
       "TEAM_ID                  0\n",
       "FG3M                     0\n",
       "MIN                      0\n",
       "FGA                      0\n",
       "SEASON_ID                0\n",
       "dtype: int64"
      ]
     },
     "execution_count": 23,
     "metadata": {},
     "output_type": "execute_result"
    }
   ],
   "source": [
    "# Data quality checks\n",
    "\n",
    "# Check NULLs in the dataset\n",
    "df.isnull().sum().sort_values(ascending=False)"
   ]
  },
  {
   "cell_type": "code",
   "execution_count": 17,
   "metadata": {},
   "outputs": [
    {
     "name": "stdout",
     "output_type": "stream",
     "text": [
      "(105726, 28)\n"
     ]
    }
   ],
   "source": [
    "# Write the file to matchData.csv\n",
    "df.to_csv('matchData.csv', index = False)\n",
    "print(df.shape)"
   ]
  },
  {
   "cell_type": "code",
   "execution_count": null,
   "metadata": {},
   "outputs": [],
   "source": []
  }
 ],
 "metadata": {
  "kernelspec": {
   "display_name": "diff",
   "language": "python",
   "name": "python3"
  },
  "language_info": {
   "codemirror_mode": {
    "name": "ipython",
    "version": 3
   },
   "file_extension": ".py",
   "mimetype": "text/x-python",
   "name": "python",
   "nbconvert_exporter": "python",
   "pygments_lexer": "ipython3",
   "version": "3.10.11"
  }
 },
 "nbformat": 4,
 "nbformat_minor": 2
}
