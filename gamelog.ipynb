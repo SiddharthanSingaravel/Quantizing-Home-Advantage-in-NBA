{
 "cells": [
  {
   "cell_type": "markdown",
   "metadata": {},
   "source": [
    "## Fetch Gamelogs"
   ]
  },
  {
   "cell_type": "code",
   "execution_count": 33,
   "metadata": {},
   "outputs": [],
   "source": [
    "# Import packages\n",
    "import pandas as pd # type: ignore\n",
    "import numpy as np # type: ignore\n",
    "import time\n",
    "import logging\n",
    "import requests # type: ignore\n",
    "import time\n",
    "from tqdm import tqdm # type: ignore\n",
    "import random\n",
    "from bs4 import BeautifulSoup # type: ignore"
   ]
  },
  {
   "cell_type": "code",
   "execution_count": 39,
   "metadata": {},
   "outputs": [],
   "source": [
    "# From seasons \n",
    "seasons = list(range(2000, 2024))\n",
    "# seasons = list(range(2020, 2024)) # TODO: Temp\n",
    "\n",
    "# Stats considered from basketball-reference\n",
    "stats = ['FG', 'FGA', 'FG%', '3P', '3PA', '3P%', 'FT', 'FTA', 'FT%', 'ORB', 'TRB', 'AST', 'STL', 'BLK', 'TOV', 'PF']\n",
    "\n",
    "# Current 20 teams\n",
    "teams = ['ATL', 'BOS', 'BRK', 'CHO', 'CHI', 'CLE', 'DAL',\n",
    "         'DEN', 'DET', 'GSW', 'HOU', 'IND', 'LAL', 'LAC', 'MEM',\n",
    "         'MIA', 'MIL', 'MIN', 'NOP', 'NYK', 'OKC', 'ORL', 'PHI', 'PHO',\n",
    "         'POR', 'SAC', 'SAS', 'TOR', 'UTA', 'WAS']\n",
    "\n",
    "assert len(teams) == 30"
   ]
  },
  {
   "cell_type": "code",
   "execution_count": 35,
   "metadata": {},
   "outputs": [],
   "source": [
    "# Team and Opposing Team statistics\n",
    "tm_stats_dict = {stat: 'Tm_' + stat for stat in stats}\n",
    "opp_stats_dict = {stat + '.1': 'Opp_' + stat for stat in stats}\n",
    "\n",
    "# Get data into this dataframe\n",
    "nba_df = pd.DataFrame()\n",
    "years_parsed = pd.DataFrame() # To keep track of df tracked\n",
    "\n",
    "# Teams and Seasons combinations\n",
    "print('total combinations:', len(teams) * len(seasons))"
   ]
  },
  {
   "cell_type": "code",
   "execution_count": 41,
   "metadata": {},
   "outputs": [
    {
     "name": "stderr",
     "output_type": "stream",
     "text": [
      "ATL: 100%|██████████| 24/24 [02:19<00:00,  5.81s/it]\n",
      "BOS: 100%|██████████| 24/24 [02:29<00:00,  6.21s/it]139.34s/it]\n",
      "BRK: 100%|██████████| 24/24 [02:19<00:00,  5.82s/it]145.09s/it]\n",
      "CHO: 100%|██████████| 24/24 [02:24<00:00,  6.03s/it]142.60s/it]\n",
      "CHI: 100%|██████████| 24/24 [02:21<00:00,  5.88s/it]143.43s/it]\n",
      "CLE: 100%|██████████| 24/24 [02:25<00:00,  6.05s/it]2.63s/it]  \n",
      "DAL: 100%|██████████| 24/24 [02:28<00:00,  6.20s/it]3.52s/it]\n",
      "DEN: 100%|██████████| 24/24 [02:19<00:00,  5.80s/it]5.26s/it]\n",
      "DET: 100%|██████████| 24/24 [02:21<00:00,  5.91s/it]3.30s/it]\n",
      "GSW: 100%|██████████| 24/24 [02:26<00:00,  6.12s/it]2.88s/it]\n",
      "HOU: 100%|██████████| 24/24 [02:16<00:00,  5.69s/it]44.08s/it]\n",
      "IND: 100%|██████████| 24/24 [02:18<00:00,  5.76s/it]41.79s/it]\n",
      "LAL: 100%|██████████| 24/24 [02:25<00:00,  6.07s/it]40.70s/it]\n",
      "LAC: 100%|██████████| 24/24 [02:23<00:00,  5.96s/it]42.21s/it]\n",
      "MEM: 100%|██████████| 24/24 [02:26<00:00,  6.10s/it]42.48s/it]\n",
      "MIA: 100%|██████████| 24/24 [02:31<00:00,  6.32s/it]43.65s/it]\n",
      "MIL: 100%|██████████| 24/24 [02:26<00:00,  6.10s/it]46.05s/it]\n",
      "MIN: 100%|██████████| 24/24 [02:20<00:00,  5.86s/it]46.16s/it]\n",
      "NOP: 100%|██████████| 24/24 [02:24<00:00,  6.03s/it]44.47s/it]\n",
      "NYK: 100%|██████████| 24/24 [02:21<00:00,  5.90s/it]44.55s/it]\n",
      "OKC: 100%|██████████| 24/24 [02:29<00:00,  6.23s/it]43.67s/it]\n",
      "ORL: 100%|██████████| 24/24 [02:24<00:00,  6.00s/it]45.45s/it]\n",
      "PHI: 100%|██████████| 24/24 [02:22<00:00,  5.93s/it]45.04s/it]\n",
      "PHO: 100%|██████████| 24/24 [02:17<00:00,  5.72s/it]44.21s/it]\n",
      "POR: 100%|██████████| 24/24 [02:20<00:00,  5.86s/it]42.10s/it]\n",
      "SAC: 100%|██████████| 24/24 [02:21<00:00,  5.88s/it]41.65s/it]\n",
      "SAS: 100%|██████████| 24/24 [02:44<00:00,  6.84s/it] 141.47s/it]\n",
      "TOR: 100%|██████████| 24/24 [02:18<00:00,  5.77s/it] 148.26s/it]\n",
      "UTA: 100%|██████████| 24/24 [02:24<00:00,  6.02s/it] 145.36s/it]\n",
      "WAS: 100%|██████████| 24/24 [02:22<00:00,  5.94s/it] 145.08s/it]\n",
      "teams parsed: 100%|██████████| 30/30 [1:11:55<00:00, 143.84s/it]"
     ]
    },
    {
     "name": "stdout",
     "output_type": "stream",
     "text": [
      "   Season Team  G        Date  Home  Opp W/L Tm_Pts Opp_Pts Tm_FG  ... Opp_FT  \\\n",
      "0    2000  ATL  1  1999-11-02     0  WAS   L     87      94    31  ...     13   \n",
      "1    2000  ATL  2  1999-11-04     1  MIL   L    109     119    41  ...     33   \n",
      "2    2000  ATL  3  1999-11-06     1  CHI   W    113      97    44  ...     24   \n",
      "3    2000  ATL  4  1999-11-08     0  DEN   L    100     115    39  ...     19   \n",
      "4    2000  ATL  5  1999-11-10     0  VAN   L     97     102    39  ...     13   \n",
      "\n",
      "  Opp_FTA Opp_FT% Opp_ORB Opp_TRB Opp_AST Opp_STL Opp_BLK Opp_TOV Opp_PF  \n",
      "0      16    .813      12      42      23       5       5      15     30  \n",
      "1      36    .917      12      38      24      15       6      11     25  \n",
      "2      35    .686      17      39      14       6       6      14     26  \n",
      "3      24    .792      22      49      28       6      15       7     23  \n",
      "4      16    .813      15      49      27       9      10      18     24  \n",
      "\n",
      "[5 rows x 41 columns]\n"
     ]
    },
    {
     "name": "stderr",
     "output_type": "stream",
     "text": [
      "\n"
     ]
    }
   ],
   "source": [
    "# Set logging for the file parsing\n",
    "logging.basicConfig(filename = 'parsing.log',\n",
    "                    level = logging.INFO)\n",
    "\n",
    "# Fetch gamelogs for the teams\n",
    "for team in tqdm(teams, desc = 'teams parsed'):\n",
    "    for season in tqdm(seasons, desc = team):\n",
    "        url = 'https://www.basketball-reference.com/teams/' + team + '/' + str(season) + '/gamelog/'\n",
    "        \n",
    "        # If url is valid\n",
    "        response = requests.head(url)\n",
    "        if response.status_code == 200:\n",
    "            logging.info('{} at {} archived | {}'.format(team, season, url))\n",
    "            team_df = pd.read_html(url, header = 1, attrs = {'id': 'tgl_basic'})[0]\n",
    "\n",
    "            # Drop where Rk is NULL\n",
    "            team_df = team_df[(team_df['Rk'].str != '') & (team_df['Rk'].str.isnumeric())]\n",
    "            \n",
    "            # Drop blank columns\n",
    "            team_df.drop(columns=['Rk', 'Unnamed: 24'], inplace=True)\n",
    "\n",
    "            # Rename few columns\n",
    "            team_df = team_df.rename(columns = {'Unnamed: 3': 'Home',\n",
    "                                                'Tm': 'Tm_Pts',\n",
    "                                                'Opp.1': 'Opp_Pts'})\n",
    "            team_df = team_df.rename(columns = tm_stats_dict)\n",
    "            team_df = team_df.rename(columns = opp_stats_dict)\n",
    "\n",
    "            team_df['Home'] = team_df['Home'].apply(lambda x: 0 if x == '@' else 1)\n",
    "            \n",
    "            # Insert 'Season' and 'Team' into the dataset\n",
    "            team_df.insert(loc = 0, column = 'Season', value = season)\n",
    "            team_df.insert(loc = 1, column = 'Team', value = team.upper())\n",
    "            nba_df = pd.concat([nba_df, team_df], ignore_index=True)    \n",
    "        \n",
    "        else:\n",
    "            logging.info('NOT added {} at {} | {}'.format(team, season, url))\n",
    "        \n",
    "        # Sleep time between requests to abide by basketball-ref rules\n",
    "        time.sleep(random.randint(4, 6))\n",
    "\n",
    "# nba_df print\n",
    "print(nba_df.head())"
   ]
  },
  {
   "cell_type": "code",
   "execution_count": 60,
   "metadata": {},
   "outputs": [
    {
     "name": "stdout",
     "output_type": "stream",
     "text": [
      "NULLs in the dataset  0\n"
     ]
    }
   ],
   "source": [
    "# Fetch NULLs in the dataset\n",
    "print('NULLs in the dataset ', nba_df.isnull().sum().sum())\n",
    "assert nba_df.isnull().sum().sum() == 0\n",
    "\n",
    "# pandas to csv\n",
    "nba_df.to_csv('pkl/NBAgames_2000_2024.csv', index = False)\n",
    "\n",
    "# pandas to pickle\n",
    "nba_df.to_pickle(\"pkl/nba_df.pkl\")"
   ]
  },
  {
   "cell_type": "markdown",
   "metadata": {},
   "source": [
    "## Data Processing"
   ]
  },
  {
   "cell_type": "code",
   "execution_count": 56,
   "metadata": {},
   "outputs": [],
   "source": [
    "# Change str to datetime in nba_df\n",
    "nba_df.Date = pd.to_datetime(nba_df.Date, format='%Y-%m-%d', errors = 'coerce')"
   ]
  }
 ],
 "metadata": {
  "kernelspec": {
   "display_name": "diff",
   "language": "python",
   "name": "python3"
  },
  "language_info": {
   "codemirror_mode": {
    "name": "ipython",
    "version": 3
   },
   "file_extension": ".py",
   "mimetype": "text/x-python",
   "name": "python",
   "nbconvert_exporter": "python",
   "pygments_lexer": "ipython3",
   "version": "3.10.11"
  }
 },
 "nbformat": 4,
 "nbformat_minor": 2
}
