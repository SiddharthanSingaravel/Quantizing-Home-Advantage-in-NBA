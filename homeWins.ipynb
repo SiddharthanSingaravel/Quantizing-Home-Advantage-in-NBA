{
 "cells": [
  {
   "cell_type": "markdown",
   "metadata": {},
   "source": [
    "## Quantizing Home Advantage in NBA\n",
    "Finding how much of a boost it is to teams playing at their home court"
   ]
  },
  {
   "cell_type": "code",
   "execution_count": 2,
   "metadata": {},
   "outputs": [],
   "source": [
    "# Import packages\n",
    "import pandas as pd # type: ignore\n",
    "import numpy as np # type: ignore\n",
    "pd.set_option('future.no_silent_downcasting', True)\n",
    "pd.set_option('display.max_columns', None) # Set the maximum number of columns to display to the maximum possible\n",
    "import pickle\n",
    "\n",
    "import plotly.graph_objects as go # type: ignore\n",
    "import plotly.io as pio\n",
    "import plotly.express as px\n",
    "pio.templates.default = \"plotly_white\"\n",
    "\n",
    "import seaborn as sns\n",
    "from matplotlib import pyplot as plt"
   ]
  },
  {
   "cell_type": "markdown",
   "metadata": {},
   "source": [
    "## Fetch dictionaries for lookups"
   ]
  },
  {
   "cell_type": "code",
   "execution_count": 3,
   "metadata": {},
   "outputs": [
    {
     "name": "stdout",
     "output_type": "stream",
     "text": [
      "Conference Counter({'E': 15, 'W': 15})\n",
      "Division Counter({'Southeast': 5, 'Atlantic': 5, 'Central': 5, 'Southwest': 5, 'Northwest': 5, 'Pacific': 5})\n"
     ]
    }
   ],
   "source": [
    "# Write nba_team_conf to a pickle\n",
    "# W: Western conference, E: Eastern conference\n",
    "from collections import Counter\n",
    "nba_team_conf = {\n",
    "    'ATL': 'E','BOS': 'E','BRK': 'E','CHO': 'E','CHI': 'E','CLE': 'E','DAL': 'W','DEN': 'W','DET': 'E','GSW': 'W','HOU': 'W','IND': 'E','LAC': 'W','LAL': 'W','MEM': 'W',\n",
    "    'MIA': 'E','MIL': 'E','MIN': 'W','NOP': 'W','NYK': 'E','OKC': 'W','ORL': 'E','PHI': 'E','PHO': 'W','POR': 'W','SAC': 'W','SAS': 'W','TOR': 'E','UTA': 'W','WAS': 'E'\n",
    "}\n",
    "print('Conference', Counter(nba_team_conf.values()))\n",
    "\n",
    "# Write file to a pkl\n",
    "with open('pkl/nba_team_conf.pkl', 'wb') as f:\n",
    "    pickle.dump(nba_team_conf, f)\n",
    "\n",
    "# Write nba_team_division to a pickle\n",
    "nba_team_division = {\n",
    "    'ATL': 'Southeast', 'BOS': 'Atlantic','BRK': 'Atlantic','CHO': 'Southeast','CHI': 'Central','CLE': 'Central','DAL': 'Southwest',\n",
    "    'DEN': 'Northwest','DET': 'Central','GSW': 'Pacific','HOU': 'Southwest','IND': 'Central','LAC': 'Pacific','LAL': 'Pacific','MEM': 'Southwest',\n",
    "    'MIA': 'Southeast','MIL': 'Central','MIN': 'Northwest','NOP': 'Southwest','NYK': 'Atlantic','OKC': 'Northwest','ORL': 'Southeast','PHI': 'Atlantic','PHX': 'Pacific',\n",
    "    'POR': 'Northwest','SAC': 'Pacific','SAS': 'Southwest','TOR': 'Atlantic','UTA': 'Northwest', 'WAS': 'Southeast'\n",
    "}\n",
    "\n",
    "# Count the occurrences of values in the dictionary\n",
    "print('Division', Counter(nba_team_division.values()))\n",
    "\n",
    "with open('pkl/nba_team_division.pkl', 'wb') as f:\n",
    "    pickle.dump(nba_team_division, f)"
   ]
  },
  {
   "cell_type": "code",
   "execution_count": 49,
   "metadata": {},
   "outputs": [],
   "source": [
    "# Get nba_team_division dataframe\n",
    "df_nba_team_division = pd.DataFrame.from_dict(nba_team_division, orient='index', columns = ['Division']).reset_index()\n",
    "df_nba_team_division.columns = ['Team', 'Division']"
   ]
  },
  {
   "cell_type": "code",
   "execution_count": 6,
   "metadata": {},
   "outputs": [
    {
     "data": {
      "text/html": [
       "<div>\n",
       "<style scoped>\n",
       "    .dataframe tbody tr th:only-of-type {\n",
       "        vertical-align: middle;\n",
       "    }\n",
       "\n",
       "    .dataframe tbody tr th {\n",
       "        vertical-align: top;\n",
       "    }\n",
       "\n",
       "    .dataframe thead th {\n",
       "        text-align: right;\n",
       "    }\n",
       "</style>\n",
       "<table border=\"1\" class=\"dataframe\">\n",
       "  <thead>\n",
       "    <tr style=\"text-align: right;\">\n",
       "      <th></th>\n",
       "      <th>Season</th>\n",
       "      <th>Team</th>\n",
       "      <th>G</th>\n",
       "      <th>Date</th>\n",
       "      <th>Home</th>\n",
       "      <th>Opp</th>\n",
       "      <th>W/L</th>\n",
       "      <th>Tm_Pts</th>\n",
       "      <th>Opp_Pts</th>\n",
       "      <th>Tm_FG</th>\n",
       "      <th>Tm_FGA</th>\n",
       "      <th>Tm_FG%</th>\n",
       "      <th>Tm_3P</th>\n",
       "      <th>Tm_3PA</th>\n",
       "      <th>Tm_3P%</th>\n",
       "      <th>Tm_FT</th>\n",
       "      <th>Tm_FTA</th>\n",
       "      <th>Tm_FT%</th>\n",
       "      <th>Tm_ORB</th>\n",
       "      <th>Tm_TRB</th>\n",
       "      <th>Tm_AST</th>\n",
       "      <th>Tm_STL</th>\n",
       "      <th>Tm_BLK</th>\n",
       "      <th>Tm_TOV</th>\n",
       "      <th>Tm_PF</th>\n",
       "      <th>Opp_FG</th>\n",
       "      <th>Opp_FGA</th>\n",
       "      <th>Opp_FG%</th>\n",
       "      <th>Opp_3P</th>\n",
       "      <th>Opp_3PA</th>\n",
       "      <th>Opp_3P%</th>\n",
       "      <th>Opp_FT</th>\n",
       "      <th>Opp_FTA</th>\n",
       "      <th>Opp_FT%</th>\n",
       "      <th>Opp_ORB</th>\n",
       "      <th>Opp_TRB</th>\n",
       "      <th>Opp_AST</th>\n",
       "      <th>Opp_STL</th>\n",
       "      <th>Opp_BLK</th>\n",
       "      <th>Opp_TOV</th>\n",
       "      <th>Opp_PF</th>\n",
       "    </tr>\n",
       "  </thead>\n",
       "  <tbody>\n",
       "    <tr>\n",
       "      <th>0</th>\n",
       "      <td>2000</td>\n",
       "      <td>ATL</td>\n",
       "      <td>1</td>\n",
       "      <td>1999-11-02</td>\n",
       "      <td>0</td>\n",
       "      <td>WAS</td>\n",
       "      <td>0</td>\n",
       "      <td>87</td>\n",
       "      <td>94</td>\n",
       "      <td>31</td>\n",
       "      <td>78</td>\n",
       "      <td>.397</td>\n",
       "      <td>2</td>\n",
       "      <td>6</td>\n",
       "      <td>.333</td>\n",
       "      <td>23</td>\n",
       "      <td>30</td>\n",
       "      <td>.767</td>\n",
       "      <td>16</td>\n",
       "      <td>50</td>\n",
       "      <td>15</td>\n",
       "      <td>5</td>\n",
       "      <td>5</td>\n",
       "      <td>23</td>\n",
       "      <td>22</td>\n",
       "      <td>39</td>\n",
       "      <td>88</td>\n",
       "      <td>.443</td>\n",
       "      <td>3</td>\n",
       "      <td>10</td>\n",
       "      <td>.300</td>\n",
       "      <td>13</td>\n",
       "      <td>16</td>\n",
       "      <td>.813</td>\n",
       "      <td>12</td>\n",
       "      <td>42</td>\n",
       "      <td>23</td>\n",
       "      <td>5</td>\n",
       "      <td>5</td>\n",
       "      <td>15</td>\n",
       "      <td>30</td>\n",
       "    </tr>\n",
       "    <tr>\n",
       "      <th>1</th>\n",
       "      <td>2000</td>\n",
       "      <td>ATL</td>\n",
       "      <td>2</td>\n",
       "      <td>1999-11-04</td>\n",
       "      <td>1</td>\n",
       "      <td>MIL</td>\n",
       "      <td>0</td>\n",
       "      <td>109</td>\n",
       "      <td>119</td>\n",
       "      <td>41</td>\n",
       "      <td>83</td>\n",
       "      <td>.494</td>\n",
       "      <td>6</td>\n",
       "      <td>14</td>\n",
       "      <td>.429</td>\n",
       "      <td>21</td>\n",
       "      <td>30</td>\n",
       "      <td>.700</td>\n",
       "      <td>17</td>\n",
       "      <td>46</td>\n",
       "      <td>22</td>\n",
       "      <td>3</td>\n",
       "      <td>5</td>\n",
       "      <td>26</td>\n",
       "      <td>26</td>\n",
       "      <td>41</td>\n",
       "      <td>90</td>\n",
       "      <td>.456</td>\n",
       "      <td>4</td>\n",
       "      <td>11</td>\n",
       "      <td>.364</td>\n",
       "      <td>33</td>\n",
       "      <td>36</td>\n",
       "      <td>.917</td>\n",
       "      <td>12</td>\n",
       "      <td>38</td>\n",
       "      <td>24</td>\n",
       "      <td>15</td>\n",
       "      <td>6</td>\n",
       "      <td>11</td>\n",
       "      <td>25</td>\n",
       "    </tr>\n",
       "    <tr>\n",
       "      <th>2</th>\n",
       "      <td>2000</td>\n",
       "      <td>ATL</td>\n",
       "      <td>3</td>\n",
       "      <td>1999-11-06</td>\n",
       "      <td>1</td>\n",
       "      <td>CHI</td>\n",
       "      <td>1</td>\n",
       "      <td>113</td>\n",
       "      <td>97</td>\n",
       "      <td>44</td>\n",
       "      <td>81</td>\n",
       "      <td>.543</td>\n",
       "      <td>3</td>\n",
       "      <td>8</td>\n",
       "      <td>.375</td>\n",
       "      <td>22</td>\n",
       "      <td>34</td>\n",
       "      <td>.647</td>\n",
       "      <td>13</td>\n",
       "      <td>42</td>\n",
       "      <td>21</td>\n",
       "      <td>10</td>\n",
       "      <td>3</td>\n",
       "      <td>11</td>\n",
       "      <td>30</td>\n",
       "      <td>35</td>\n",
       "      <td>80</td>\n",
       "      <td>.438</td>\n",
       "      <td>3</td>\n",
       "      <td>12</td>\n",
       "      <td>.250</td>\n",
       "      <td>24</td>\n",
       "      <td>35</td>\n",
       "      <td>.686</td>\n",
       "      <td>17</td>\n",
       "      <td>39</td>\n",
       "      <td>14</td>\n",
       "      <td>6</td>\n",
       "      <td>6</td>\n",
       "      <td>14</td>\n",
       "      <td>26</td>\n",
       "    </tr>\n",
       "    <tr>\n",
       "      <th>3</th>\n",
       "      <td>2000</td>\n",
       "      <td>ATL</td>\n",
       "      <td>4</td>\n",
       "      <td>1999-11-08</td>\n",
       "      <td>0</td>\n",
       "      <td>DEN</td>\n",
       "      <td>0</td>\n",
       "      <td>100</td>\n",
       "      <td>115</td>\n",
       "      <td>39</td>\n",
       "      <td>82</td>\n",
       "      <td>.476</td>\n",
       "      <td>0</td>\n",
       "      <td>7</td>\n",
       "      <td>.000</td>\n",
       "      <td>22</td>\n",
       "      <td>30</td>\n",
       "      <td>.733</td>\n",
       "      <td>13</td>\n",
       "      <td>39</td>\n",
       "      <td>21</td>\n",
       "      <td>2</td>\n",
       "      <td>6</td>\n",
       "      <td>12</td>\n",
       "      <td>22</td>\n",
       "      <td>45</td>\n",
       "      <td>96</td>\n",
       "      <td>.469</td>\n",
       "      <td>6</td>\n",
       "      <td>19</td>\n",
       "      <td>.316</td>\n",
       "      <td>19</td>\n",
       "      <td>24</td>\n",
       "      <td>.792</td>\n",
       "      <td>22</td>\n",
       "      <td>49</td>\n",
       "      <td>28</td>\n",
       "      <td>6</td>\n",
       "      <td>15</td>\n",
       "      <td>7</td>\n",
       "      <td>23</td>\n",
       "    </tr>\n",
       "    <tr>\n",
       "      <th>4</th>\n",
       "      <td>2000</td>\n",
       "      <td>ATL</td>\n",
       "      <td>5</td>\n",
       "      <td>1999-11-10</td>\n",
       "      <td>0</td>\n",
       "      <td>VAN</td>\n",
       "      <td>0</td>\n",
       "      <td>97</td>\n",
       "      <td>102</td>\n",
       "      <td>39</td>\n",
       "      <td>92</td>\n",
       "      <td>.424</td>\n",
       "      <td>1</td>\n",
       "      <td>7</td>\n",
       "      <td>.143</td>\n",
       "      <td>18</td>\n",
       "      <td>24</td>\n",
       "      <td>.750</td>\n",
       "      <td>10</td>\n",
       "      <td>41</td>\n",
       "      <td>17</td>\n",
       "      <td>9</td>\n",
       "      <td>7</td>\n",
       "      <td>14</td>\n",
       "      <td>18</td>\n",
       "      <td>44</td>\n",
       "      <td>92</td>\n",
       "      <td>.478</td>\n",
       "      <td>1</td>\n",
       "      <td>6</td>\n",
       "      <td>.167</td>\n",
       "      <td>13</td>\n",
       "      <td>16</td>\n",
       "      <td>.813</td>\n",
       "      <td>15</td>\n",
       "      <td>49</td>\n",
       "      <td>27</td>\n",
       "      <td>9</td>\n",
       "      <td>10</td>\n",
       "      <td>18</td>\n",
       "      <td>24</td>\n",
       "    </tr>\n",
       "  </tbody>\n",
       "</table>\n",
       "</div>"
      ],
      "text/plain": [
       "   Season Team  G       Date  Home  Opp W/L Tm_Pts Opp_Pts Tm_FG Tm_FGA  \\\n",
       "0    2000  ATL  1 1999-11-02     0  WAS   0     87      94    31     78   \n",
       "1    2000  ATL  2 1999-11-04     1  MIL   0    109     119    41     83   \n",
       "2    2000  ATL  3 1999-11-06     1  CHI   1    113      97    44     81   \n",
       "3    2000  ATL  4 1999-11-08     0  DEN   0    100     115    39     82   \n",
       "4    2000  ATL  5 1999-11-10     0  VAN   0     97     102    39     92   \n",
       "\n",
       "  Tm_FG% Tm_3P Tm_3PA Tm_3P% Tm_FT Tm_FTA Tm_FT% Tm_ORB Tm_TRB Tm_AST Tm_STL  \\\n",
       "0   .397     2      6   .333    23     30   .767     16     50     15      5   \n",
       "1   .494     6     14   .429    21     30   .700     17     46     22      3   \n",
       "2   .543     3      8   .375    22     34   .647     13     42     21     10   \n",
       "3   .476     0      7   .000    22     30   .733     13     39     21      2   \n",
       "4   .424     1      7   .143    18     24   .750     10     41     17      9   \n",
       "\n",
       "  Tm_BLK Tm_TOV Tm_PF Opp_FG Opp_FGA Opp_FG% Opp_3P Opp_3PA Opp_3P% Opp_FT  \\\n",
       "0      5     23    22     39      88    .443      3      10    .300     13   \n",
       "1      5     26    26     41      90    .456      4      11    .364     33   \n",
       "2      3     11    30     35      80    .438      3      12    .250     24   \n",
       "3      6     12    22     45      96    .469      6      19    .316     19   \n",
       "4      7     14    18     44      92    .478      1       6    .167     13   \n",
       "\n",
       "  Opp_FTA Opp_FT% Opp_ORB Opp_TRB Opp_AST Opp_STL Opp_BLK Opp_TOV Opp_PF  \n",
       "0      16    .813      12      42      23       5       5      15     30  \n",
       "1      36    .917      12      38      24      15       6      11     25  \n",
       "2      35    .686      17      39      14       6       6      14     26  \n",
       "3      24    .792      22      49      28       6      15       7     23  \n",
       "4      16    .813      15      49      27       9      10      18     24  "
      ]
     },
     "execution_count": 6,
     "metadata": {},
     "output_type": "execute_result"
    }
   ],
   "source": [
    "# Read pickle\n",
    "nba_df = pd.read_pickle('pkl/nba_df.pkl')\n",
    "nba_df.Date = pd.to_datetime(nba_df.Date, format='%Y-%m-%d', errors = 'coerce')\n",
    "\n",
    "# Replace values of W/L with 1 and 0\n",
    "nba_df['W/L'] = nba_df['W/L'].replace({'L': 0, 'W': 1})\n",
    "nba_df.head(5)"
   ]
  },
  {
   "cell_type": "markdown",
   "metadata": {},
   "source": [
    "## Home Wins Percentage"
   ]
  },
  {
   "cell_type": "markdown",
   "metadata": {},
   "source": [
    "It is well known that teams hold an advantage at their home court. This is to look at the extent they impact."
   ]
  },
  {
   "cell_type": "code",
   "execution_count": 7,
   "metadata": {},
   "outputs": [
    {
     "data": {
      "text/html": [
       "<div>\n",
       "<style scoped>\n",
       "    .dataframe tbody tr th:only-of-type {\n",
       "        vertical-align: middle;\n",
       "    }\n",
       "\n",
       "    .dataframe tbody tr th {\n",
       "        vertical-align: top;\n",
       "    }\n",
       "\n",
       "    .dataframe thead th {\n",
       "        text-align: right;\n",
       "    }\n",
       "</style>\n",
       "<table border=\"1\" class=\"dataframe\">\n",
       "  <thead>\n",
       "    <tr style=\"text-align: right;\">\n",
       "      <th></th>\n",
       "      <th>Season</th>\n",
       "      <th>Team</th>\n",
       "      <th>Home</th>\n",
       "      <th>W/L</th>\n",
       "      <th>G</th>\n",
       "      <th>Win%</th>\n",
       "    </tr>\n",
       "  </thead>\n",
       "  <tbody>\n",
       "    <tr>\n",
       "      <th>0</th>\n",
       "      <td>2000</td>\n",
       "      <td>ATL</td>\n",
       "      <td>0</td>\n",
       "      <td>7</td>\n",
       "      <td>41</td>\n",
       "      <td>0.170732</td>\n",
       "    </tr>\n",
       "    <tr>\n",
       "      <th>1</th>\n",
       "      <td>2000</td>\n",
       "      <td>ATL</td>\n",
       "      <td>1</td>\n",
       "      <td>21</td>\n",
       "      <td>41</td>\n",
       "      <td>0.512195</td>\n",
       "    </tr>\n",
       "    <tr>\n",
       "      <th>2</th>\n",
       "      <td>2000</td>\n",
       "      <td>BOS</td>\n",
       "      <td>0</td>\n",
       "      <td>9</td>\n",
       "      <td>41</td>\n",
       "      <td>0.219512</td>\n",
       "    </tr>\n",
       "    <tr>\n",
       "      <th>3</th>\n",
       "      <td>2000</td>\n",
       "      <td>BOS</td>\n",
       "      <td>1</td>\n",
       "      <td>26</td>\n",
       "      <td>41</td>\n",
       "      <td>0.634146</td>\n",
       "    </tr>\n",
       "    <tr>\n",
       "      <th>4</th>\n",
       "      <td>2000</td>\n",
       "      <td>CHI</td>\n",
       "      <td>0</td>\n",
       "      <td>5</td>\n",
       "      <td>41</td>\n",
       "      <td>0.121951</td>\n",
       "    </tr>\n",
       "    <tr>\n",
       "      <th>5</th>\n",
       "      <td>2000</td>\n",
       "      <td>CHI</td>\n",
       "      <td>1</td>\n",
       "      <td>12</td>\n",
       "      <td>41</td>\n",
       "      <td>0.292683</td>\n",
       "    </tr>\n",
       "    <tr>\n",
       "      <th>6</th>\n",
       "      <td>2000</td>\n",
       "      <td>CLE</td>\n",
       "      <td>0</td>\n",
       "      <td>10</td>\n",
       "      <td>41</td>\n",
       "      <td>0.243902</td>\n",
       "    </tr>\n",
       "    <tr>\n",
       "      <th>7</th>\n",
       "      <td>2000</td>\n",
       "      <td>CLE</td>\n",
       "      <td>1</td>\n",
       "      <td>22</td>\n",
       "      <td>41</td>\n",
       "      <td>0.536585</td>\n",
       "    </tr>\n",
       "    <tr>\n",
       "      <th>8</th>\n",
       "      <td>2000</td>\n",
       "      <td>DAL</td>\n",
       "      <td>0</td>\n",
       "      <td>18</td>\n",
       "      <td>41</td>\n",
       "      <td>0.439024</td>\n",
       "    </tr>\n",
       "    <tr>\n",
       "      <th>9</th>\n",
       "      <td>2000</td>\n",
       "      <td>DAL</td>\n",
       "      <td>1</td>\n",
       "      <td>22</td>\n",
       "      <td>41</td>\n",
       "      <td>0.536585</td>\n",
       "    </tr>\n",
       "  </tbody>\n",
       "</table>\n",
       "</div>"
      ],
      "text/plain": [
       "   Season Team  Home W/L   G      Win%\n",
       "0    2000  ATL     0   7  41  0.170732\n",
       "1    2000  ATL     1  21  41  0.512195\n",
       "2    2000  BOS     0   9  41  0.219512\n",
       "3    2000  BOS     1  26  41  0.634146\n",
       "4    2000  CHI     0   5  41  0.121951\n",
       "5    2000  CHI     1  12  41  0.292683\n",
       "6    2000  CLE     0  10  41  0.243902\n",
       "7    2000  CLE     1  22  41  0.536585\n",
       "8    2000  DAL     0  18  41  0.439024\n",
       "9    2000  DAL     1  22  41  0.536585"
      ]
     },
     "execution_count": 7,
     "metadata": {},
     "output_type": "execute_result"
    }
   ],
   "source": [
    "# Overall Home win percentage (by season)\n",
    "nba_home = nba_df.groupby(['Season', 'Team', 'Home']).agg({'W/L': 'sum'})\n",
    "nba_home = pd.merge(nba_home,\n",
    "                    nba_df.groupby(['Season', 'Team', 'Home']).agg({'G': 'count'}), \n",
    "                    on = ['Season', 'Team', 'Home'], \n",
    "                    how = 'inner')\n",
    "nba_home['Win%'] = nba_home['W/L']/nba_home['G']\n",
    "nba_home.reset_index(inplace=True)\n",
    "nba_home.to_csv('pkl/nba_home_seasons.csv', index = False)\n",
    "nba_home.head(10)"
   ]
  },
  {
   "cell_type": "code",
   "execution_count": 38,
   "metadata": {},
   "outputs": [
    {
     "data": {
      "application/vnd.plotly.v1+json": {
       "config": {
        "plotlyServerURL": "https://plot.ly"
       },
       "data": [
        {
         "marker": {
          "color": "#93CBDD"
         },
         "name": "Home",
         "type": "bar",
         "x": [
          "ATL",
          "BOS",
          "BRK",
          "CHI",
          "CHO",
          "CLE",
          "DAL",
          "DEN",
          "DET",
          "GSW",
          "HOU",
          "IND",
          "LAC",
          "LAL",
          "MEM",
          "MIA",
          "MIL",
          "MIN",
          "NOP",
          "NYK",
          "OKC",
          "ORL",
          "PHI",
          "PHO",
          "POR",
          "SAC",
          "SAS",
          "TOR",
          "UTA",
          "WAS"
         ],
         "y": [
          0.5653526970954357,
          0.6341968911917099,
          0.5192743764172335,
          0.5425311203319502,
          0.5084745762711864,
          0.582815734989648,
          0.6683884297520661,
          0.6628748707342296,
          0.5586708203530634,
          0.6099585062240664,
          0.6107660455486542,
          0.6376811594202898,
          0.5848861283643892,
          0.6341968911917099,
          0.5932203389830508,
          0.650103519668737,
          0.5989637305699482,
          0.5083160083160083,
          0.535,
          0.5025960539979232,
          0.6321070234113713,
          0.5367875647668394,
          0.5606217616580311,
          0.5995872033023736,
          0.6231884057971014,
          0.5450777202072539,
          0.745850622406639,
          0.5869565217391305,
          0.666321243523316,
          0.5196687370600414
         ]
        },
        {
         "marker": {
          "color": "#FF8BA1"
         },
         "name": "Away",
         "type": "bar",
         "x": [
          "ATL",
          "BOS",
          "BRK",
          "CHI",
          "CHO",
          "CLE",
          "DAL",
          "DEN",
          "DET",
          "GSW",
          "HOU",
          "IND",
          "LAC",
          "LAL",
          "MEM",
          "MIA",
          "MIL",
          "MIN",
          "NOP",
          "NYK",
          "OKC",
          "ORL",
          "PHI",
          "PHO",
          "POR",
          "SAC",
          "SAS",
          "TOR",
          "UTA",
          "WAS"
         ],
         "y": [
          0.3374870197300104,
          0.4824016563146998,
          0.41950113378684806,
          0.3756503642039542,
          0.3865546218487395,
          0.3722627737226277,
          0.5129265770423992,
          0.4078674948240166,
          0.3862928348909657,
          0.40270551508844954,
          0.45652173913043476,
          0.4140786749482402,
          0.40062111801242234,
          0.4668737060041408,
          0.3902714932126697,
          0.46639089968976216,
          0.40702479338842973,
          0.35343035343035345,
          0.3725,
          0.34683281412253375,
          0.4865771812080537,
          0.3646694214876033,
          0.41012396694214875,
          0.4460580912863071,
          0.42355371900826444,
          0.36918304033092036,
          0.5553257497414684,
          0.42857142857142855,
          0.43743536711478803,
          0.3281573498964803
         ]
        }
       ],
       "layout": {
        "height": 400,
        "shapes": [
         {
          "line": {
           "color": "#93CBDD",
           "dash": "dash"
          },
          "type": "line",
          "x0": 0,
          "x1": 1,
          "xref": "x domain",
          "y0": 0.59,
          "y1": 0.59,
          "yref": "y"
         },
         {
          "line": {
           "color": "#FF8BA1",
           "dash": "dash"
          },
          "type": "line",
          "x0": 0,
          "x1": 1,
          "xref": "x domain",
          "y0": 0.41,
          "y1": 0.41,
          "yref": "y"
         }
        ],
        "template": {
         "data": {
          "bar": [
           {
            "error_x": {
             "color": "#2a3f5f"
            },
            "error_y": {
             "color": "#2a3f5f"
            },
            "marker": {
             "line": {
              "color": "white",
              "width": 0.5
             },
             "pattern": {
              "fillmode": "overlay",
              "size": 10,
              "solidity": 0.2
             }
            },
            "type": "bar"
           }
          ],
          "barpolar": [
           {
            "marker": {
             "line": {
              "color": "white",
              "width": 0.5
             },
             "pattern": {
              "fillmode": "overlay",
              "size": 10,
              "solidity": 0.2
             }
            },
            "type": "barpolar"
           }
          ],
          "carpet": [
           {
            "aaxis": {
             "endlinecolor": "#2a3f5f",
             "gridcolor": "#C8D4E3",
             "linecolor": "#C8D4E3",
             "minorgridcolor": "#C8D4E3",
             "startlinecolor": "#2a3f5f"
            },
            "baxis": {
             "endlinecolor": "#2a3f5f",
             "gridcolor": "#C8D4E3",
             "linecolor": "#C8D4E3",
             "minorgridcolor": "#C8D4E3",
             "startlinecolor": "#2a3f5f"
            },
            "type": "carpet"
           }
          ],
          "choropleth": [
           {
            "colorbar": {
             "outlinewidth": 0,
             "ticks": ""
            },
            "type": "choropleth"
           }
          ],
          "contour": [
           {
            "colorbar": {
             "outlinewidth": 0,
             "ticks": ""
            },
            "colorscale": [
             [
              0,
              "#0d0887"
             ],
             [
              0.1111111111111111,
              "#46039f"
             ],
             [
              0.2222222222222222,
              "#7201a8"
             ],
             [
              0.3333333333333333,
              "#9c179e"
             ],
             [
              0.4444444444444444,
              "#bd3786"
             ],
             [
              0.5555555555555556,
              "#d8576b"
             ],
             [
              0.6666666666666666,
              "#ed7953"
             ],
             [
              0.7777777777777778,
              "#fb9f3a"
             ],
             [
              0.8888888888888888,
              "#fdca26"
             ],
             [
              1,
              "#f0f921"
             ]
            ],
            "type": "contour"
           }
          ],
          "contourcarpet": [
           {
            "colorbar": {
             "outlinewidth": 0,
             "ticks": ""
            },
            "type": "contourcarpet"
           }
          ],
          "heatmap": [
           {
            "colorbar": {
             "outlinewidth": 0,
             "ticks": ""
            },
            "colorscale": [
             [
              0,
              "#0d0887"
             ],
             [
              0.1111111111111111,
              "#46039f"
             ],
             [
              0.2222222222222222,
              "#7201a8"
             ],
             [
              0.3333333333333333,
              "#9c179e"
             ],
             [
              0.4444444444444444,
              "#bd3786"
             ],
             [
              0.5555555555555556,
              "#d8576b"
             ],
             [
              0.6666666666666666,
              "#ed7953"
             ],
             [
              0.7777777777777778,
              "#fb9f3a"
             ],
             [
              0.8888888888888888,
              "#fdca26"
             ],
             [
              1,
              "#f0f921"
             ]
            ],
            "type": "heatmap"
           }
          ],
          "heatmapgl": [
           {
            "colorbar": {
             "outlinewidth": 0,
             "ticks": ""
            },
            "colorscale": [
             [
              0,
              "#0d0887"
             ],
             [
              0.1111111111111111,
              "#46039f"
             ],
             [
              0.2222222222222222,
              "#7201a8"
             ],
             [
              0.3333333333333333,
              "#9c179e"
             ],
             [
              0.4444444444444444,
              "#bd3786"
             ],
             [
              0.5555555555555556,
              "#d8576b"
             ],
             [
              0.6666666666666666,
              "#ed7953"
             ],
             [
              0.7777777777777778,
              "#fb9f3a"
             ],
             [
              0.8888888888888888,
              "#fdca26"
             ],
             [
              1,
              "#f0f921"
             ]
            ],
            "type": "heatmapgl"
           }
          ],
          "histogram": [
           {
            "marker": {
             "pattern": {
              "fillmode": "overlay",
              "size": 10,
              "solidity": 0.2
             }
            },
            "type": "histogram"
           }
          ],
          "histogram2d": [
           {
            "colorbar": {
             "outlinewidth": 0,
             "ticks": ""
            },
            "colorscale": [
             [
              0,
              "#0d0887"
             ],
             [
              0.1111111111111111,
              "#46039f"
             ],
             [
              0.2222222222222222,
              "#7201a8"
             ],
             [
              0.3333333333333333,
              "#9c179e"
             ],
             [
              0.4444444444444444,
              "#bd3786"
             ],
             [
              0.5555555555555556,
              "#d8576b"
             ],
             [
              0.6666666666666666,
              "#ed7953"
             ],
             [
              0.7777777777777778,
              "#fb9f3a"
             ],
             [
              0.8888888888888888,
              "#fdca26"
             ],
             [
              1,
              "#f0f921"
             ]
            ],
            "type": "histogram2d"
           }
          ],
          "histogram2dcontour": [
           {
            "colorbar": {
             "outlinewidth": 0,
             "ticks": ""
            },
            "colorscale": [
             [
              0,
              "#0d0887"
             ],
             [
              0.1111111111111111,
              "#46039f"
             ],
             [
              0.2222222222222222,
              "#7201a8"
             ],
             [
              0.3333333333333333,
              "#9c179e"
             ],
             [
              0.4444444444444444,
              "#bd3786"
             ],
             [
              0.5555555555555556,
              "#d8576b"
             ],
             [
              0.6666666666666666,
              "#ed7953"
             ],
             [
              0.7777777777777778,
              "#fb9f3a"
             ],
             [
              0.8888888888888888,
              "#fdca26"
             ],
             [
              1,
              "#f0f921"
             ]
            ],
            "type": "histogram2dcontour"
           }
          ],
          "mesh3d": [
           {
            "colorbar": {
             "outlinewidth": 0,
             "ticks": ""
            },
            "type": "mesh3d"
           }
          ],
          "parcoords": [
           {
            "line": {
             "colorbar": {
              "outlinewidth": 0,
              "ticks": ""
             }
            },
            "type": "parcoords"
           }
          ],
          "pie": [
           {
            "automargin": true,
            "type": "pie"
           }
          ],
          "scatter": [
           {
            "fillpattern": {
             "fillmode": "overlay",
             "size": 10,
             "solidity": 0.2
            },
            "type": "scatter"
           }
          ],
          "scatter3d": [
           {
            "line": {
             "colorbar": {
              "outlinewidth": 0,
              "ticks": ""
             }
            },
            "marker": {
             "colorbar": {
              "outlinewidth": 0,
              "ticks": ""
             }
            },
            "type": "scatter3d"
           }
          ],
          "scattercarpet": [
           {
            "marker": {
             "colorbar": {
              "outlinewidth": 0,
              "ticks": ""
             }
            },
            "type": "scattercarpet"
           }
          ],
          "scattergeo": [
           {
            "marker": {
             "colorbar": {
              "outlinewidth": 0,
              "ticks": ""
             }
            },
            "type": "scattergeo"
           }
          ],
          "scattergl": [
           {
            "marker": {
             "colorbar": {
              "outlinewidth": 0,
              "ticks": ""
             }
            },
            "type": "scattergl"
           }
          ],
          "scattermapbox": [
           {
            "marker": {
             "colorbar": {
              "outlinewidth": 0,
              "ticks": ""
             }
            },
            "type": "scattermapbox"
           }
          ],
          "scatterpolar": [
           {
            "marker": {
             "colorbar": {
              "outlinewidth": 0,
              "ticks": ""
             }
            },
            "type": "scatterpolar"
           }
          ],
          "scatterpolargl": [
           {
            "marker": {
             "colorbar": {
              "outlinewidth": 0,
              "ticks": ""
             }
            },
            "type": "scatterpolargl"
           }
          ],
          "scatterternary": [
           {
            "marker": {
             "colorbar": {
              "outlinewidth": 0,
              "ticks": ""
             }
            },
            "type": "scatterternary"
           }
          ],
          "surface": [
           {
            "colorbar": {
             "outlinewidth": 0,
             "ticks": ""
            },
            "colorscale": [
             [
              0,
              "#0d0887"
             ],
             [
              0.1111111111111111,
              "#46039f"
             ],
             [
              0.2222222222222222,
              "#7201a8"
             ],
             [
              0.3333333333333333,
              "#9c179e"
             ],
             [
              0.4444444444444444,
              "#bd3786"
             ],
             [
              0.5555555555555556,
              "#d8576b"
             ],
             [
              0.6666666666666666,
              "#ed7953"
             ],
             [
              0.7777777777777778,
              "#fb9f3a"
             ],
             [
              0.8888888888888888,
              "#fdca26"
             ],
             [
              1,
              "#f0f921"
             ]
            ],
            "type": "surface"
           }
          ],
          "table": [
           {
            "cells": {
             "fill": {
              "color": "#EBF0F8"
             },
             "line": {
              "color": "white"
             }
            },
            "header": {
             "fill": {
              "color": "#C8D4E3"
             },
             "line": {
              "color": "white"
             }
            },
            "type": "table"
           }
          ]
         },
         "layout": {
          "annotationdefaults": {
           "arrowcolor": "#2a3f5f",
           "arrowhead": 0,
           "arrowwidth": 1
          },
          "autotypenumbers": "strict",
          "coloraxis": {
           "colorbar": {
            "outlinewidth": 0,
            "ticks": ""
           }
          },
          "colorscale": {
           "diverging": [
            [
             0,
             "#8e0152"
            ],
            [
             0.1,
             "#c51b7d"
            ],
            [
             0.2,
             "#de77ae"
            ],
            [
             0.3,
             "#f1b6da"
            ],
            [
             0.4,
             "#fde0ef"
            ],
            [
             0.5,
             "#f7f7f7"
            ],
            [
             0.6,
             "#e6f5d0"
            ],
            [
             0.7,
             "#b8e186"
            ],
            [
             0.8,
             "#7fbc41"
            ],
            [
             0.9,
             "#4d9221"
            ],
            [
             1,
             "#276419"
            ]
           ],
           "sequential": [
            [
             0,
             "#0d0887"
            ],
            [
             0.1111111111111111,
             "#46039f"
            ],
            [
             0.2222222222222222,
             "#7201a8"
            ],
            [
             0.3333333333333333,
             "#9c179e"
            ],
            [
             0.4444444444444444,
             "#bd3786"
            ],
            [
             0.5555555555555556,
             "#d8576b"
            ],
            [
             0.6666666666666666,
             "#ed7953"
            ],
            [
             0.7777777777777778,
             "#fb9f3a"
            ],
            [
             0.8888888888888888,
             "#fdca26"
            ],
            [
             1,
             "#f0f921"
            ]
           ],
           "sequentialminus": [
            [
             0,
             "#0d0887"
            ],
            [
             0.1111111111111111,
             "#46039f"
            ],
            [
             0.2222222222222222,
             "#7201a8"
            ],
            [
             0.3333333333333333,
             "#9c179e"
            ],
            [
             0.4444444444444444,
             "#bd3786"
            ],
            [
             0.5555555555555556,
             "#d8576b"
            ],
            [
             0.6666666666666666,
             "#ed7953"
            ],
            [
             0.7777777777777778,
             "#fb9f3a"
            ],
            [
             0.8888888888888888,
             "#fdca26"
            ],
            [
             1,
             "#f0f921"
            ]
           ]
          },
          "colorway": [
           "#636efa",
           "#EF553B",
           "#00cc96",
           "#ab63fa",
           "#FFA15A",
           "#19d3f3",
           "#FF6692",
           "#B6E880",
           "#FF97FF",
           "#FECB52"
          ],
          "font": {
           "color": "#2a3f5f"
          },
          "geo": {
           "bgcolor": "white",
           "lakecolor": "white",
           "landcolor": "white",
           "showlakes": true,
           "showland": true,
           "subunitcolor": "#C8D4E3"
          },
          "hoverlabel": {
           "align": "left"
          },
          "hovermode": "closest",
          "mapbox": {
           "style": "light"
          },
          "paper_bgcolor": "white",
          "plot_bgcolor": "white",
          "polar": {
           "angularaxis": {
            "gridcolor": "#EBF0F8",
            "linecolor": "#EBF0F8",
            "ticks": ""
           },
           "bgcolor": "white",
           "radialaxis": {
            "gridcolor": "#EBF0F8",
            "linecolor": "#EBF0F8",
            "ticks": ""
           }
          },
          "scene": {
           "xaxis": {
            "backgroundcolor": "white",
            "gridcolor": "#DFE8F3",
            "gridwidth": 2,
            "linecolor": "#EBF0F8",
            "showbackground": true,
            "ticks": "",
            "zerolinecolor": "#EBF0F8"
           },
           "yaxis": {
            "backgroundcolor": "white",
            "gridcolor": "#DFE8F3",
            "gridwidth": 2,
            "linecolor": "#EBF0F8",
            "showbackground": true,
            "ticks": "",
            "zerolinecolor": "#EBF0F8"
           },
           "zaxis": {
            "backgroundcolor": "white",
            "gridcolor": "#DFE8F3",
            "gridwidth": 2,
            "linecolor": "#EBF0F8",
            "showbackground": true,
            "ticks": "",
            "zerolinecolor": "#EBF0F8"
           }
          },
          "shapedefaults": {
           "line": {
            "color": "#2a3f5f"
           }
          },
          "ternary": {
           "aaxis": {
            "gridcolor": "#DFE8F3",
            "linecolor": "#A2B1C6",
            "ticks": ""
           },
           "baxis": {
            "gridcolor": "#DFE8F3",
            "linecolor": "#A2B1C6",
            "ticks": ""
           },
           "bgcolor": "white",
           "caxis": {
            "gridcolor": "#DFE8F3",
            "linecolor": "#A2B1C6",
            "ticks": ""
           }
          },
          "title": {
           "x": 0.05
          },
          "xaxis": {
           "automargin": true,
           "gridcolor": "#EBF0F8",
           "linecolor": "#EBF0F8",
           "ticks": "",
           "title": {
            "standoff": 15
           },
           "zerolinecolor": "#EBF0F8",
           "zerolinewidth": 2
          },
          "yaxis": {
           "automargin": true,
           "gridcolor": "#EBF0F8",
           "linecolor": "#EBF0F8",
           "ticks": "",
           "title": {
            "standoff": 15
           },
           "zerolinecolor": "#EBF0F8",
           "zerolinewidth": 2
          }
         }
        },
        "title": {
         "text": "Win Percentage by Team at Home and Away"
        },
        "width": 1400,
        "xaxis": {
         "title": {
          "text": "Team"
         }
        },
        "yaxis": {
         "title": {
          "text": "Win Percentage"
         }
        }
       }
      }
     },
     "metadata": {},
     "output_type": "display_data"
    }
   ],
   "source": [
    "# Overall Home win percentage (overall)\n",
    "nba_home_overall = nba_home.groupby(['Team', 'Home']).agg({'W/L': 'sum', 'G': 'sum'})\n",
    "nba_home_overall['Win%'] = nba_home_overall['W/L']/nba_home_overall['G']\n",
    "nba_home_overall.reset_index(inplace=True)\n",
    "\n",
    "# Left join with team division information\n",
    "nba_home_overall = pd.merge(nba_home_overall,\n",
    "                            df_nba_team_division,\n",
    "                            how='left',\n",
    "                            left_on='Team',\n",
    "                            right_on='Team')\n",
    "\n",
    "# Separate the DataFrame into home and away data\n",
    "home_df = nba_home_overall[nba_home_overall['Home'] == 1]\n",
    "away_df = nba_home_overall[nba_home_overall['Home'] == 0]\n",
    "\n",
    "# Create traces for home and away win percentages for each team\n",
    "home_trace = go.Bar(x=home_df['Team'], y=home_df['Win%'], name='Home', marker_color='#93CBDD')\n",
    "away_trace = go.Bar(x=away_df['Team'], y=away_df['Win%'], name='Away', marker_color='#FF8BA1')\n",
    "\n",
    "# Create the figure\n",
    "fig = go.Figure(data=[home_trace, away_trace])\n",
    "\n",
    "# Add hlines at home and away win percentages\n",
    "home_win_pt = np.round(home_df['W/L'].sum() / home_df['G'].sum(), 2)\n",
    "away_win_pt = np.round(away_df['W/L'].sum() / away_df['G'].sum(), 2)\n",
    "\n",
    "fig.add_hline(y = home_win_pt, line_dash=\"dash\", line_color=\"#93CBDD\") # Home avg\n",
    "fig.add_hline(y = away_win_pt, line_dash=\"dash\", line_color=\"#FF8BA1\") # Away avg\n",
    "\n",
    "# Update the layout\n",
    "fig.update_layout(title='Win Percentage by Team at Home and Away',\n",
    "                  xaxis_title='Team',\n",
    "                  yaxis_title='Win Percentage')\n",
    "fig.update_layout(width = 1400, height = 400)\n",
    "fig.show()"
   ]
  },
  {
   "cell_type": "markdown",
   "metadata": {},
   "source": [
    "## Case for better scheduling\n",
    "Hypothesis. Why teams with wider schedules are more inclined to win the match"
   ]
  },
  {
   "cell_type": "markdown",
   "metadata": {},
   "source": [
    "## Date differences between games\n",
    "Hypothesis. Fewer dates between games will result in untoward outcomes."
   ]
  },
  {
   "cell_type": "code",
   "execution_count": 48,
   "metadata": {},
   "outputs": [
    {
     "data": {
      "text/plain": [
       "Datediff\n",
       "2.0    30223\n",
       "1.0    11923\n",
       "3.0     7884\n",
       "4.0     1827\n",
       "5.0      360\n",
       "6.0      314\n",
       "8.0      141\n",
       "7.0      124\n",
       "9.0      116\n",
       "Name: count, dtype: int64"
      ]
     },
     "execution_count": 48,
     "metadata": {},
     "output_type": "execute_result"
    }
   ],
   "source": [
    "# Get Date Difference Between Games\n",
    "df_window = nba_df.groupby(['Season', 'Team']).agg({'W/L': 'count'})\n",
    "df_window.reset_index(inplace=True)\n",
    "\n",
    "# Datediff\n",
    "try:\n",
    "    nba_df.insert(loc = 4, column = 'Datediff', value = nba_df.groupby(['Season', 'Team'])['Date'].diff().dt.total_seconds().div(3600*24))\n",
    "except:\n",
    "    pass\n",
    "\n",
    "# Value counts Date Difference Between Games\n",
    "nba_df[nba_df['Datediff'] < 10].value_counts('Datediff').sort_values(ascending = False)"
   ]
  },
  {
   "cell_type": "code",
   "execution_count": 93,
   "metadata": {},
   "outputs": [],
   "source": [
    "# TODO: visit library\n",
    "# TODO: Visualize home win %\n",
    "# Check other stats that contribute to this\n",
    "# Start scraping"
   ]
  }
 ],
 "metadata": {
  "kernelspec": {
   "display_name": "diff",
   "language": "python",
   "name": "python3"
  },
  "language_info": {
   "codemirror_mode": {
    "name": "ipython",
    "version": 3
   },
   "file_extension": ".py",
   "mimetype": "text/x-python",
   "name": "python",
   "nbconvert_exporter": "python",
   "pygments_lexer": "ipython3",
   "version": "3.10.11"
  }
 },
 "nbformat": 4,
 "nbformat_minor": 2
}
