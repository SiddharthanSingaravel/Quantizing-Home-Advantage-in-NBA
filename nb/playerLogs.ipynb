{
 "cells": [
  {
   "cell_type": "markdown",
   "metadata": {},
   "source": [
    "## Fetch player logs"
   ]
  },
  {
   "cell_type": "code",
   "execution_count": 1,
   "metadata": {},
   "outputs": [],
   "source": [
    "# Import packages\n",
    "import pandas as pd # type: ignore\n",
    "import numpy as np # type: ignore\n",
    "import time\n",
    "import logging\n",
    "import requests # type: ignore\n",
    "import time\n",
    "from tqdm import tqdm # type: ignore\n",
    "import random\n",
    "from bs4 import BeautifulSoup # type: ignore\n",
    "import basketball_reference_scraper"
   ]
  },
  {
   "cell_type": "code",
   "execution_count": 3,
   "metadata": {},
   "outputs": [
    {
     "name": "stdout",
     "output_type": "stream",
     "text": [
      "    NUMBER             PLAYER POS HEIGHT  WEIGHT BIRTH_DATE NATIONALITY  \\\n",
      "0        2        Jordan Bell   C    6-8     216 1995-01-07          US   \n",
      "1       12       Andrew Bogut   C    7-0     260 1984-11-28          AU   \n",
      "2        4         Quinn Cook  PG    6-1     180 1993-03-23          US   \n",
      "3        0   DeMarcus Cousins   C   6-10     270 1990-08-13          US   \n",
      "4       30      Stephen Curry  PG    6-2     185 1988-03-14          US   \n",
      "5       32  Marcus Derrickson  PF    6-7     249 1996-02-01          US   \n",
      "6       35       Kevin Durant  SF   6-11     240 1988-09-29          US   \n",
      "7       10        Jacob Evans  SG    6-4     210 1997-06-18          US   \n",
      "8       23     Draymond Green  PF    6-6     230 1990-03-04          US   \n",
      "9        9     Andre Iguodala  SF    6-6     215 1984-01-28          US   \n",
      "10      21      Jonas Jerebko  PF   6-10     231 1987-03-02          SE   \n",
      "11      15       Damian Jones   C   6-11     245 1995-06-30          US   \n",
      "12       1         Damion Lee  SG    6-5     210 1992-10-21          US   \n",
      "13      34   Shaun Livingston  PG    6-7     192 1985-09-11          US   \n",
      "14       5       Kevon Looney   C    6-9     222 1996-02-06          US   \n",
      "15      28   Alfonzo McKinnie  SF    6-7     215 1992-09-17          US   \n",
      "16      11      Klay Thompson  SG    6-6     215 1990-02-08          US   \n",
      "\n",
      "   EXPERIENCE             COLLEGE  \n",
      "0           1              Oregon  \n",
      "1          13                Utah  \n",
      "2           2                Duke  \n",
      "3           8            Kentucky  \n",
      "4           9            Davidson  \n",
      "5           R          Georgetown  \n",
      "6          11               Texas  \n",
      "7           R          Cincinnati  \n",
      "8           6      Michigan State  \n",
      "9          14             Arizona  \n",
      "10          8                 NaN  \n",
      "11          2          Vanderbilt  \n",
      "12          1  Drexel, Louisville  \n",
      "13         13                 NaN  \n",
      "14          3                UCLA  \n",
      "15          1           Green Bay  \n",
      "16          7    Washington State  \n"
     ]
    },
    {
     "name": "stderr",
     "output_type": "stream",
     "text": [
      "c:\\Users\\siddh\\OneDrive - Northeastern University\\Desktop\\NEU Essentials\\03 Spring 24\\01 IE7615 Neural Nets\\diffusion\\diff\\lib\\site-packages\\basketball_reference_scraper\\teams.py:21: FutureWarning: Passing literal html to 'read_html' is deprecated and will be removed in a future version. To read from a literal string, wrap it in a 'StringIO' object.\n",
      "  df = pd.read_html(str(table))[0]\n"
     ]
    }
   ],
   "source": [
    "# Get GSW team roster\n",
    "from basketball_reference_scraper.teams import get_roster\n",
    "df = get_roster('GSW', 2019)"
   ]
  },
  {
   "cell_type": "code",
   "execution_count": null,
   "metadata": {},
   "outputs": [],
   "source": [
    "from basketball_reference_web_scraper.data import Team"
   ]
  }
 ],
 "metadata": {
  "kernelspec": {
   "display_name": "diff",
   "language": "python",
   "name": "python3"
  },
  "language_info": {
   "codemirror_mode": {
    "name": "ipython",
    "version": 3
   },
   "file_extension": ".py",
   "mimetype": "text/x-python",
   "name": "python",
   "nbconvert_exporter": "python",
   "pygments_lexer": "ipython3",
   "version": "3.10.11"
  }
 },
 "nbformat": 4,
 "nbformat_minor": 2
}
